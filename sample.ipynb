{
 "cells": [
  {
   "metadata": {},
   "cell_type": "markdown",
   "source": "# Hello welcome to Om's Jupyter Notebook",
   "id": "8a77807f92f26ee"
  },
  {
   "metadata": {
    "ExecuteTime": {
     "end_time": "2024-07-09T12:51:12.957350Z",
     "start_time": "2024-07-09T12:51:12.952030Z"
    }
   },
   "cell_type": "code",
   "source": [
    "def sum(numbers): \n",
    "    total = 0\n",
    "    for number in numbers:\n",
    "        total += number\n",
    "    return total;\n",
    "\n",
    "print(sum([1,2,3,4,5]))"
   ],
   "id": "f34a3eb58fac3f9a",
   "outputs": [
    {
     "name": "stdout",
     "output_type": "stream",
     "text": [
      "15\n"
     ]
    }
   ],
   "execution_count": 1
  },
  {
   "metadata": {
    "ExecuteTime": {
     "end_time": "2024-07-09T12:51:15.132440Z",
     "start_time": "2024-07-09T12:51:12.957350Z"
    }
   },
   "cell_type": "code",
   "source": [
    "def equal(a) :\n",
    "    b = \"om\"\n",
    "    if(a==b):\n",
    "        return True\n",
    "    else:\n",
    "        return False\n",
    "\n",
    "val = input(\"Enter your value: \") \n",
    "\n",
    "print(equal(val))"
   ],
   "id": "8e44dfc40f2396f1",
   "outputs": [
    {
     "name": "stdout",
     "output_type": "stream",
     "text": [
      "False\n"
     ]
    }
   ],
   "execution_count": 2
  },
  {
   "metadata": {
    "ExecuteTime": {
     "end_time": "2024-07-09T12:51:15.222824Z",
     "start_time": "2024-07-09T12:51:15.132440Z"
    }
   },
   "cell_type": "code",
   "source": [
    "import numpy as n\n",
    "arr = n.array((3,4,5,6),ndmin = 2,dtype=int)\n",
    "print(arr)"
   ],
   "id": "644129df0da2aa56",
   "outputs": [
    {
     "name": "stdout",
     "output_type": "stream",
     "text": [
      "[[3 4 5 6]]\n"
     ]
    }
   ],
   "execution_count": 3
  },
  {
   "metadata": {
    "ExecuteTime": {
     "end_time": "2024-07-13T07:39:54.543463Z",
     "start_time": "2024-07-13T07:39:54.528477Z"
    }
   },
   "cell_type": "code",
   "source": [
    "array = [1,\"hi\",3,4,5]\n",
    "array2 = [-2,-5,-6]\n",
    "array.append('magic')\n",
    "array.append(['om','modi'])\n",
    "array.insert(1,10)\n",
    "array2.extend(array)\n",
    "print(array)\n",
    "print(array2)"
   ],
   "id": "f2fea21345d4b14e",
   "outputs": [
    {
     "name": "stdout",
     "output_type": "stream",
     "text": [
      "[1, 10, 'hi', 3, 4, 5, 'magic', ['om', 'modi']]\n",
      "[-2, -5, -6, 1, 10, 'hi', 3, 4, 5, 'magic', ['om', 'modi']]\n"
     ]
    }
   ],
   "execution_count": 3
  },
  {
   "metadata": {
    "ExecuteTime": {
     "end_time": "2024-07-13T07:41:58.146345Z",
     "start_time": "2024-07-13T07:41:48.820375Z"
    }
   },
   "cell_type": "code",
   "source": [
    "a = input()\n",
    "print(a)\n",
    "print(a[2])\n",
    "b = str(input('enter a string'))\n",
    "print(b)\n",
    "c = int(input('enter a number'))\n",
    "#int(c)\n",
    "print(c)"
   ],
   "id": "589adcb5997d3244",
   "outputs": [
    {
     "name": "stdout",
     "output_type": "stream",
     "text": [
      "dcj\n",
      "j\n",
      "hjdsssl\n",
      "32\n"
     ]
    }
   ],
   "execution_count": 13
  },
  {
   "metadata": {
    "ExecuteTime": {
     "end_time": "2024-07-13T07:42:15.869561Z",
     "start_time": "2024-07-13T07:42:08.941179Z"
    }
   },
   "cell_type": "code",
   "source": [
    "#how to take input using for loop\n",
    "\n",
    "n = int(input('enter a number of numbers:'))\n",
    "numbers = input('enter a number:').split()\n",
    "#print(numbers)\n",
    "for i in range (0,n):\n",
    "    numbers[i] = int(numbers[i])\n",
    "\n",
    "print(numbers)"
   ],
   "id": "841acd9b1e492c42",
   "outputs": [
    {
     "name": "stdout",
     "output_type": "stream",
     "text": [
      "[21, 23]\n"
     ]
    }
   ],
   "execution_count": 14
  },
  {
   "metadata": {
    "ExecuteTime": {
     "end_time": "2024-07-13T07:28:22.101628Z",
     "start_time": "2024-07-13T07:28:22.101628Z"
    }
   },
   "cell_type": "code",
   "source": [
    "Str = \"my name is om modi\"\n",
    "Str.split()\n",
    "\n",
    "Str1 = \"12,23,45,56\"\n",
    "Str1.split(\",\",1)"
   ],
   "id": "401d11fa4080eed6",
   "outputs": [],
   "execution_count": null
  },
  {
   "metadata": {},
   "cell_type": "code",
   "source": [
    "#changing items\n",
    "list = [\"john\",\"jennifer\",1,3,\"bob\"]\n",
    "list[2] = \"Michael\"\n",
    "\n",
    "print(list)\n",
    "\n",
    "#[from,to-1]\n",
    "list[2:4] = [1,\"hello\",\"world\"]\n",
    "print(list)\n",
    "\n",
    "#insert\n",
    "list.insert(1,\"Mike\")\n",
    "print(list)"
   ],
   "id": "5ff8fd7839481c69",
   "outputs": [],
   "execution_count": null
  },
  {
   "metadata": {},
   "cell_type": "code",
   "source": [
    "#removing\n",
    "list = [\"om\",2,3,4,5]\n",
    "print(list)\n",
    "list.remove(\"om\")\n",
    "print(list)\n",
    "\n",
    "list.pop()\n",
    "print(list)\n",
    "list.pop(1) #index\n",
    "print(list)\n",
    "\n",
    "list.clear()\n",
    "print(list)"
   ],
   "id": "e8399594f6417222",
   "outputs": [],
   "execution_count": null
  },
  {
   "metadata": {},
   "cell_type": "code",
   "source": [
    "names = ['john','jennifer','om','Michael','bob']\n",
    "j_names=[]\n",
    "for name in names:\n",
    "    if 'j' in name:\n",
    "        j_names.append(name)\n",
    "        \n",
    "print(j_names)"
   ],
   "id": "ff464092e35ba519",
   "outputs": [],
   "execution_count": null
  },
  {
   "metadata": {},
   "cell_type": "code",
   "outputs": [],
   "execution_count": null,
   "source": "",
   "id": "83b9637b2253a2c9"
  }
 ],
 "metadata": {
  "kernelspec": {
   "display_name": "Python 3",
   "language": "python",
   "name": "python3"
  },
  "language_info": {
   "codemirror_mode": {
    "name": "ipython",
    "version": 2
   },
   "file_extension": ".py",
   "mimetype": "text/x-python",
   "name": "python",
   "nbconvert_exporter": "python",
   "pygments_lexer": "ipython2",
   "version": "2.7.6"
  }
 },
 "nbformat": 4,
 "nbformat_minor": 5
}
